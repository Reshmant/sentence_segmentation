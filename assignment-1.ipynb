{
 "cells": [
  {
   "cell_type": "code",
   "execution_count": 8,
   "metadata": {},
   "outputs": [
    {
     "name": "stdout",
     "output_type": "stream",
     "text": [
      "Home automation or domotics is building automation for a home, called a smart home or smart house\n",
      "\n",
      "\n",
      "It involves the control and automation of lighting, heating (such as smart thermostats), ventilation, air conditioning (HVAC), and security, as well as home appliances such as washer/dryers, ovens or refrigerators/freezers\n",
      "\n",
      "\n",
      "Wi-Fi is often used for remote monitoring and control\n",
      "\n",
      "\n",
      "Home devices, when remotely monitored and controlled via the Internet, are an important constituent of the Internet of Things\n",
      "\n",
      "\n",
      "Modern systems generally consist of switches and sensors connected to a central hub sometimes called a \"gateway\" from which the system is controlled with a user interface that is interacted either with a wall-mounted terminal, mobile phone software, tablet computer or a web interface, often but not always via Internet cloud services.While there are many competing vendors, there are very few worldwide accepted industry standards and the smart home space is heavily fragmented\n",
      "\n",
      "\n",
      "Popular communications protocol for products include X, Ethernet, RS-, LoWPAN, Bluetooth LE (BLE), ZigBee and Z-Wave, or other proprietary protocols all of which are incompatible with each other\n",
      "\n",
      "\n",
      "Manufacturers often prevent independent implementations by withholding documentation and by litigation.The home automation market was worth US$\n",
      "\n",
      "\n",
      "billion in , predicted to reach a market value of US$\n",
      "\n",
      "\n",
      "billion by the year .Early home automation began with labor-saving machines\n",
      "\n",
      "\n",
      "Self-contained electric or gas powered home appliances became viable in the s with the introduction of electric power distribution and led to the introduction of washing machines (), water heaters (), refrigerators, sewing machines, dishwashers, and clothes dryers.In , the first general purpose home automation network technology, X, was developed\n",
      "\n",
      "\n",
      "It is a communication protocol for electronic devices\n",
      "\n",
      "\n",
      "It primarily uses electric power transmission wiring for signalling and control, where the signals involve brief radio frequency bursts of digital data, and remains the most widely available\n",
      "\n",
      "\n",
      "By , X products included a  channel command console, a lamp module, and an appliance module\n",
      "\n",
      "\n",
      "Soon after came the wall switch module and the first X timer.By , in the United States, according to ABI Research, \n",
      "\n",
      "\n",
      "million home automation systems were installed.According to Li et al\n",
      "\n",
      "\n",
      "() there are three generations of home automation:The word \"domotics\" (and \"domotica\" when used as a verb) is a contraction of the Latin word for a home (domus) and the word robotics.In a review of home automation devices, Consumer Reports found two main concerns for consumers:Microsoft Research found in , that home automation could involve high cost of ownership, inflexibility of interconnected devices, and poor manageability.Historically systems have been sold as complete systems where the consumer relies on one vendor for the entire system including the hardware, the communications protocol, the central hub, and the user interface\n",
      "\n",
      "\n",
      "However, there are now open source software systems which can be used with proprietary hardware.There are a wide variety of technology platforms, or protocols, on which a smart home can be built\n",
      "\n",
      "\n",
      "Each one is, essentially, its own language\n",
      "\n",
      "\n",
      "Each language speaks to the various connected devices and instructs them to perform a function.The automation protocol transport has involved direct wire connectivity, powerline (UPB) and wireless hybrid and wireless.Most of the protocols below are not open\n",
      "\n",
      "\n",
      "All have an API.Acronym explanation:Home automation suffers from platform fragmentation and lack of technical standards a situation where the variety of home automation devices, in terms of both hardware variations and differences in the software running on them, makes the task of developing applications that work consistently between different inconsistent technology ecosystems hard\n",
      "\n",
      "\n",
      "Customers may be hesitant to bet their IoT future on proprietary software or hardware devices that use proprietary protocols that may fade or become difficult to customize and interconnect.The nature of home automation devices can also be a problem for security, since patches to bugs found in the core operating system often do not reach users of older and lower-price devices\n",
      "\n",
      "\n",
      "One set of researchers say that the failure of vendors to support older devices with patches and updates leaves more than % of active devices vulnerable.Domestic patch panel, unstructured.Laptop controller for automated sprinkler systemWell and booster pump automationAn ad for the Kitchen Computer in .\n",
      "\n",
      "\n"
     ]
    }
   ],
   "source": [
    "import requests\n",
    "import re\n",
    "from bs4 import BeautifulSoup\n",
    "\n",
    "r = requests.get(\"https://en.wikipedia.org/wiki/Home_automation\")\n",
    "soup = BeautifulSoup(r.content,\"html.parser\")\n",
    "line1=''\n",
    "for line in soup.findAll('p'):\n",
    "    line1=line1+line.getText()\n",
    "line1=re.sub(\"[\\[0-9?\\]]\",'',line1)\n",
    "line2=line1.split(\". \")\n",
    "for l in line2:\n",
    "    print(l)\n",
    "    print('\\n')"
   ]
  },
  {
   "cell_type": "code",
   "execution_count": null,
   "metadata": {
    "collapsed": true
   },
   "outputs": [],
   "source": []
  }
 ],
 "metadata": {
  "kernelspec": {
   "display_name": "Python 3",
   "language": "python",
   "name": "python3"
  },
  "language_info": {
   "codemirror_mode": {
    "name": "ipython",
    "version": 3
   },
   "file_extension": ".py",
   "mimetype": "text/x-python",
   "name": "python",
   "nbconvert_exporter": "python",
   "pygments_lexer": "ipython3",
   "version": "3.6.1"
  }
 },
 "nbformat": 4,
 "nbformat_minor": 2
}
